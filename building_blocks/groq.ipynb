{
 "cells": [
  {
   "cell_type": "code",
   "execution_count": 2,
   "id": "ec8ddd6a",
   "metadata": {},
   "outputs": [
    {
     "name": "stdout",
     "output_type": "stream",
     "text": [
      "Culture refers to the shared values, beliefs, customs, traditions, and practices of a group of people that are passed down from one generation to the next. It encompasses the way people think, feel, and behave, and is shaped by factors such as history, language, religion, art, literature, music, and social institutions. Culture is a complex and dynamic concept that influences how individuals perceive the world, interact with others, and understand themselves. It is a vital part of human identity and plays a significant role in shaping our individual and collective experiences.\n"
     ]
    }
   ],
   "source": [
    "import os\n",
    "#from dotenv import load_dotenv\n",
    "from langchain_groq import ChatGroq \n",
    "\n",
    "llm = ChatGroq(\n",
    "    groq_api_key=os.getenv(\"GROQ_API_KEY\"),\n",
    "    model=\"llama3-70b-8192\",\n",
    "    temperature=0,\n",
    ")\n",
    "\n",
    "response = llm.invoke(\"What is the meaning of culture? (NO PREAMBEL)\")\n",
    "print(response.content)"
   ]
  },
  {
   "cell_type": "code",
   "execution_count": null,
   "id": "09169653",
   "metadata": {},
   "outputs": [],
   "source": []
  }
 ],
 "metadata": {
  "kernelspec": {
   "display_name": ".venv",
   "language": "python",
   "name": "python3"
  },
  "language_info": {
   "codemirror_mode": {
    "name": "ipython",
    "version": 3
   },
   "file_extension": ".py",
   "mimetype": "text/x-python",
   "name": "python",
   "nbconvert_exporter": "python",
   "pygments_lexer": "ipython3",
   "version": "3.12.6"
  }
 },
 "nbformat": 4,
 "nbformat_minor": 5
}
