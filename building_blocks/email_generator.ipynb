{
 "cells": [
  {
   "cell_type": "code",
   "execution_count": 2,
   "id": "4dcb7139",
   "metadata": {},
   "outputs": [
    {
     "name": "stdout",
     "output_type": "stream",
     "text": [
      "What a profound and complex question!\n",
      "\n",
      "Culture is a multifaceted concept that has been debated and defined by scholars, anthropologists, sociologists, and philosophers across various disciplines. While there is no single, universally accepted definition, here's a comprehensive overview:\n",
      "\n",
      "**Culture** refers to the collective values, beliefs, norms, customs, practices, and traditions that are shared by a group of people, often passed down from one generation to the next. It encompasses the ways in which people think, feel, behave, and interact with each other and their environment.\n",
      "\n",
      "Culture is shaped by a combination of factors, including:\n",
      "\n",
      "1. **History**: The past experiences, events, and traditions that have influenced a group's values and practices.\n",
      "2. **Social structure**: The organization of society, including social institutions, roles, and relationships.\n",
      "3. **Language**: The system of communication, including spoken and written language, symbols, and signs.\n",
      "4. **Environment**: The natural and physical surroundings that influence a group's way of life.\n",
      "5. **Economy**: The system of production, distribution, and consumption of goods and services.\n",
      "6. **Technology**: The tools, machines, and techniques used to create and adapt to the environment.\n",
      "7. **Religion**: The beliefs, values, and practices related to the sacred or supernatural.\n",
      "\n",
      "Culture is expressed in various forms, including:\n",
      "\n",
      "1. **Material culture**: Physical objects, such as art, architecture, clothing, and artifacts.\n",
      "2. **Non-material culture**: Intangible aspects, such as values, norms, language, and customs.\n",
      "3. **Symbolic culture**: The use of symbols, such as language, art, and music, to convey meaning.\n",
      "\n",
      "Culture serves several functions, including:\n",
      "\n",
      "1. **Identity formation**: Culture helps individuals define themselves and their place within society.\n",
      "2. **Socialization**: Culture teaches individuals the norms, values, and behaviors expected of them.\n",
      "3. **Communication**: Culture facilitates communication among group members and with outsiders.\n",
      "4. **Adaptation**: Culture helps groups adapt to their environment and respond to challenges.\n",
      "5. **Preservation**: Culture preserves the past and transmits it to future generations.\n",
      "\n",
      "In summary, culture is a complex, dynamic, and multifaceted concept that encompasses the shared values, beliefs, norms, customs, and practices of a group of people. It is shaped by various factors, expressed in different forms, and serves essential functions in shaping individual and group identity, socialization, communication, adaptation, and preservation.\n"
     ]
    }
   ],
   "source": [
    "import os\n",
    "from dotenv import load_dotenv\n",
    "from langchain_groq import ChatGroq \n",
    "\n",
    "llm = ChatGroq(\n",
    "    groq_api_key=os.getenv(\"GROQ_API_KEY\"),\n",
    "    model=\"llama3-70b-8192\",\n",
    "    temperature=0,\n",
    ")\n",
    "\n",
    "response = llm.invoke(\"What is the meaning of culture?\")\n",
    "print(response.content)"
   ]
  },
  {
   "cell_type": "code",
   "execution_count": 3,
   "id": "7fdc2b68",
   "metadata": {},
   "outputs": [
    {
     "name": "stderr",
     "output_type": "stream",
     "text": [
      "USER_AGENT environment variable not set, consider setting it to identify your requests.\n"
     ]
    },
    {
     "name": "stdout",
     "output_type": "stream",
     "text": [
      "Job Application for Working Student, Image Quality Support at PlanetBack to jobsNewWorking Student, Image Quality SupportBerlin, GermanyApplyWelcome to Planet. We believe in using space to help life on Earth.\n",
      "Planet designs, builds, and operates the largest constellation of imaging satellites in history. This constellation delivers an unprecedented dataset of empirical information via a revolutionary cloud-based platform to authoritative figures in commercial, environmental, and humanitarian sectors. We are both a space company and data company all rolled into one.\n",
      "Customers and users across the globe use Planet's data to develop new technologies, drive revenue, power research, and solve our world’s toughest obstacles.\n",
      "As we control every component of hardware design, manufacturing, data processing, and software engineering, our office is a truly inspiring mix of experts from a variety of domains.\n",
      "We have a people-centric approach toward culture and community and we strive to iterate in a way that puts our team members first and prepares our company for growth. Join Planet and be a part of our mission to change the way people see the world.\n",
      "Planet is a global company with employees working remotely world wide and joining us from offices in San Francisco, Washington DC, Germany, Austria, Slovenia, and The Netherlands.About the Role:  \n",
      "We are currently seeking a student assistant to support our Operations team. The successful candidate will work in the Image Quality Support (IQS) team. The IQS team is dedicated to comprehensive image quality evaluation, covering all aspects of image integrity. We are responsible for identifying issues, reporting them to the relevant stakeholders, and creating appropriate metrics to track and measure quality. Our work is essential in maintaining and advancing the quality of our imaging systems, ensuring continuous improvement and project success.\n",
      "This role will appeal to candidates who enjoy working with multidisciplinary teams and are passionate about innovative technologies and remote sensing. The ideal candidate is proactive, goal-oriented, detailed, and strives for success. \n",
      "This position is based in Berlin and follows a hybrid work model, requiring 3 days of in-office attendance per week. The role offers 20 hours of work per week.\n",
      "Impact You’ll Own:\n",
      "\n",
      "Operate image analysis systems \n",
      "Manage customer orders and track fulfillment\n",
      "Carry out Image Quality Evaluation\n",
      "Identify, triage and report image anomalies\n",
      "Understand and utilize internal processes and tools\n",
      "\n",
      "What You Bring:\n",
      "\n",
      "Pursuing a B.S or M.S Degree in an Engineering, Software, or Science related field from an accredited college or technical school\n",
      "Fundamentals of remote sensing and image processing\n",
      "Good knowledge of photogrammetry and GIS systems\n",
      "Familiarity with UNIX operating systems\n",
      "Proficiency in English is required, as this is the primary working language of the company\n",
      "Excellent communication skills and a willingness to collaborate within own and across teams\n",
      "\n",
      "What Makes You Stand Out:\n",
      "\n",
      "Python skills\n",
      "\n",
      "Application Deadline:\n",
      "July 21, 2025 by 23:59 PDT (CET -9)\n",
      "Export Control Requirements:\n",
      "Planet Labs Germany GmbH is authorized to receive U.S. export-controlled information at Planet under an export license issued by the Bureau of Industry and Security. This position requires access to export-controlled information, and as such, employment (or hiring of a contractor) is contingent upon the candidate’s ability to access all applicable export-controlled information without additional export licensing being required by the Bureau of Industry and Security and/or the Directorate of Defense Trade Controls.\n",
      "Benefits While Working at Planet:\n",
      "These offerings are dependent on employment type and geographical location, based upon applicable law or company policy.\n",
      "\n",
      "Paid time off including vacation, holidays and company-wide days off \n",
      "Employee Wellness Program \n",
      "Home Office Reimbursement\n",
      "Monthly Phone and Internet Reimbursement\n",
      "Tuition Reimbursement and access to LinkedIn Learning\n",
      "Equity \n",
      "Volunteering Paid Time Off\n",
      "Why we care so much about Belonging. We’re dedicated to helping the whole Planet, and to do that we must strive to represent all of it within each of our offices and on all of our teams. That’s why Planet is guided by an ultimate north star of Belonging—dreaming big as we approach our ongoing work.  If this job intrigues you, but you’re thinking you might not have all the qualifications, please... do apply!  At Planet, we are looking for well-rounded people from around the world who can contribute to more ways than just what is listed in this job description.  We don’t just fill positions, we aspire to fulfill people’s careers, most excited about folks who are motivated by our underlying humanitarian efforts.  We are a few orbits around the sun before we get to where we want to be, so we hope you’re excited to come along for the ride. \n",
      "EEO statement: Planet is committed to building a community where everyone belongs and we invite people from all backgrounds to apply. Planet is an equal opportunity employer, and committed to providing employment opportunities regardless of race, religious creed, color, national origin, ancestry, physical disability, mental disability, medical condition, genetic information, marital status, sex, gender, gender identity, gender expression, pregnancy, childbirth and breastfeeding, age, sexual orientation, military or veteran status, or any other protected classification, in accordance with applicable federal, state, and local laws. Know Your Rights.\n",
      "Accommodations: Planet is an inclusive community and we know that everyone has their own needs. If you have a disability or special need that requires accommodation during the hiring process, please reach out to accommodations@planet.com or contact your recruiter with your request. Your message will be confidential and we will be happy to assist you.\n",
      "Privacy Policy: By clicking \"Apply Now\" at the top of this job posting, I acknowledge that I have read the Planet Data Privacy Notice for California Staff Members and Applicants, and hereby consent to the collection, processing, use, and storage of my personal information as described therein.\n",
      "Privacy Policy (European Applicants): By clicking \"Apply Now\" at the top of this job posting, I acknowledge that I have read the Candidate Privacy Notice GDPR Planet Labs Europe, and hereby consent to the collection, processing, use, and storage of my personal information as described therein.Create a Job AlertInterested in building your career at Planet? Get future opportunities sent straight to your email.Create alertApply for this job*indicates a required fieldAutofill with GreenhouseFirst Name*Last Name*Email*Phone*Location (City)*Locate meResume/CV*AttachAttachDropboxGoogle DriveEnter manuallyEnter manuallyAccepted file types: pdf, doc, docx, txt, rtfCover LetterAttachAttachDropboxGoogle DriveEnter manuallyEnter manuallyAccepted file types: pdf, doc, docx, txt, rtfLinkedIn ProfileWebsiteTo make sure we are in the same solar system of expectations, what base salary are you targeting for the impact you will make? (Please provide in local currency)How did you first hear about Planet before applying for this position?*Select...If you selected 'Conference' or 'Event' for the previous question, we would love to hear which conference / event you connected with us at.How did you find this position? *Select...Why Planet?Do you reside in or maintain an established permanent residence in any of the following countries: Cuba, Iran, North Korea, Syria, or the following territories of Ukraine (Luhansk, Donetsk, Crimea)?*Select...Do you have the right to reside and work in the member states of the European Union, including UK?*Select...Global Demographic QuestionsWe invite you to complete this survey to help us evaluate our diversity and inclusion efforts. This information will be handled anonymously, will be aggregated, and will not be linked to you or your application. You can choose to not disclose your details in any and all questions. Refusal to disclose will not adversely affect your application in any way.How would you describe your gender identity? (mark all that apply)*Select...Do you live with a disability?*Select...Submit applicationPowered byGreenhouseRead our Privacy Policy\n"
     ]
    }
   ],
   "source": [
    "from langchain_community.document_loaders import WebBaseLoader\n",
    "\n",
    "loader = WebBaseLoader(\"https://job-boards.greenhouse.io/planetlabs/jobs/6814646?gh_src=e56b92851us\")\n",
    "docs = loader.load()\n",
    "page_data = docs[0].page_content\n",
    "print(page_data)"
   ]
  },
  {
   "cell_type": "code",
   "execution_count": 4,
   "id": "1badda3f",
   "metadata": {},
   "outputs": [],
   "source": [
    "from langchain_core.prompts import PromptTemplate\n",
    "\n",
    "\n",
    "extract_prompt = PromptTemplate.from_template(\n",
    "    \"\"\"### SCRAPED TEXT FROM WEB PAGE:\n",
    "    {page_data}\n",
    "    ### TASK:\n",
    "    Scraped text from a web page is provided. Create a json object with the following fields:\n",
    "    - role: The role of the job\n",
    "    - experience: The experience required for the job\n",
    "    - skills: The skills required for the job\n",
    "    - description: The description of the job\n",
    "    Only return the json object without any additional text.\n",
    "    ### JSON OBJECT (NO PREAMBLE TEXT):\n",
    "    \"\"\")"
   ]
  },
  {
   "cell_type": "code",
   "execution_count": 5,
   "id": "16fc09b9",
   "metadata": {},
   "outputs": [
    {
     "name": "stdout",
     "output_type": "stream",
     "text": [
      "{\n",
      "\"role\": \"Working Student, Image Quality Support\",\n",
      "\"experience\": \"Pursuing a B.S or M.S Degree in an Engineering, Software, or Science related field from an accredited college or technical school\",\n",
      "\"skills\": [\"Fundamentals of remote sensing and image processing\", \"Good knowledge of photogrammetry and GIS systems\", \"Familiarity with UNIX operating systems\", \"Proficiency in English\", \"Python skills\"],\n",
      "\"description\": \"We are currently seeking a student assistant to support our Operations team. The successful candidate will work in the Image Quality Support (IQS) team. The IQS team is dedicated to comprehensive image quality evaluation, covering all aspects of image integrity.\"\n",
      "}\n"
     ]
    }
   ],
   "source": [
    "chain_extract = extract_prompt | llm\n",
    "result = chain_extract.invoke(input = {\"page_data\":page_data} )\n",
    "print(result.content)"
   ]
  },
  {
   "cell_type": "code",
   "execution_count": 6,
   "id": "4e9bf206",
   "metadata": {},
   "outputs": [
    {
     "data": {
      "text/plain": [
       "str"
      ]
     },
     "execution_count": 6,
     "metadata": {},
     "output_type": "execute_result"
    }
   ],
   "source": [
    "type(result.content)"
   ]
  },
  {
   "cell_type": "code",
   "execution_count": 7,
   "id": "044b74a9",
   "metadata": {},
   "outputs": [],
   "source": [
    "json_res = eval(result.content)"
   ]
  },
  {
   "cell_type": "code",
   "execution_count": 8,
   "id": "75192a50",
   "metadata": {},
   "outputs": [
    {
     "data": {
      "text/plain": [
       "dict"
      ]
     },
     "execution_count": 8,
     "metadata": {},
     "output_type": "execute_result"
    }
   ],
   "source": [
    "type(json_res)"
   ]
  },
  {
   "cell_type": "code",
   "execution_count": 9,
   "id": "b1f46cc6",
   "metadata": {},
   "outputs": [
    {
     "data": {
      "text/html": [
       "<div>\n",
       "<style scoped>\n",
       "    .dataframe tbody tr th:only-of-type {\n",
       "        vertical-align: middle;\n",
       "    }\n",
       "\n",
       "    .dataframe tbody tr th {\n",
       "        vertical-align: top;\n",
       "    }\n",
       "\n",
       "    .dataframe thead th {\n",
       "        text-align: right;\n",
       "    }\n",
       "</style>\n",
       "<table border=\"1\" class=\"dataframe\">\n",
       "  <thead>\n",
       "    <tr style=\"text-align: right;\">\n",
       "      <th></th>\n",
       "      <th>Techstack</th>\n",
       "      <th>Links</th>\n",
       "    </tr>\n",
       "  </thead>\n",
       "  <tbody>\n",
       "    <tr>\n",
       "      <th>0</th>\n",
       "      <td>React, Node.js, MongoDB</td>\n",
       "      <td>https://example.com/react-portfolio</td>\n",
       "    </tr>\n",
       "    <tr>\n",
       "      <th>1</th>\n",
       "      <td>Angular,.NET, SQL Server</td>\n",
       "      <td>https://example.com/angular-portfolio</td>\n",
       "    </tr>\n",
       "    <tr>\n",
       "      <th>2</th>\n",
       "      <td>Vue.js, Ruby on Rails, PostgreSQL</td>\n",
       "      <td>https://example.com/vue-portfolio</td>\n",
       "    </tr>\n",
       "    <tr>\n",
       "      <th>3</th>\n",
       "      <td>Python, Django, MySQL</td>\n",
       "      <td>https://example.com/python-portfolio</td>\n",
       "    </tr>\n",
       "    <tr>\n",
       "      <th>4</th>\n",
       "      <td>Java, Spring Boot, Oracle</td>\n",
       "      <td>https://example.com/java-portfolio</td>\n",
       "    </tr>\n",
       "    <tr>\n",
       "      <th>5</th>\n",
       "      <td>Flutter, Firebase, GraphQL</td>\n",
       "      <td>https://example.com/flutter-portfolio</td>\n",
       "    </tr>\n",
       "    <tr>\n",
       "      <th>6</th>\n",
       "      <td>WordPress, PHP, MySQL</td>\n",
       "      <td>https://example.com/wordpress-portfolio</td>\n",
       "    </tr>\n",
       "    <tr>\n",
       "      <th>7</th>\n",
       "      <td>Magento, PHP, MySQL</td>\n",
       "      <td>https://example.com/magento-portfolio</td>\n",
       "    </tr>\n",
       "    <tr>\n",
       "      <th>8</th>\n",
       "      <td>React Native, Node.js, MongoDB</td>\n",
       "      <td>https://example.com/react-native-portfolio</td>\n",
       "    </tr>\n",
       "    <tr>\n",
       "      <th>9</th>\n",
       "      <td>iOS, Swift, Core Data</td>\n",
       "      <td>https://example.com/ios-portfolio</td>\n",
       "    </tr>\n",
       "    <tr>\n",
       "      <th>10</th>\n",
       "      <td>Android, Java, Room Persistence</td>\n",
       "      <td>https://example.com/android-portfolio</td>\n",
       "    </tr>\n",
       "    <tr>\n",
       "      <th>11</th>\n",
       "      <td>Kotlin, Android, Firebase</td>\n",
       "      <td>https://example.com/kotlin-android-portfolio</td>\n",
       "    </tr>\n",
       "    <tr>\n",
       "      <th>12</th>\n",
       "      <td>Android TV, Kotlin, Android NDK</td>\n",
       "      <td>https://example.com/android-tv-portfolio</td>\n",
       "    </tr>\n",
       "    <tr>\n",
       "      <th>13</th>\n",
       "      <td>iOS, Swift, ARKit</td>\n",
       "      <td>https://example.com/ios-ar-portfolio</td>\n",
       "    </tr>\n",
       "    <tr>\n",
       "      <th>14</th>\n",
       "      <td>Cross-platform, Xamarin, Azure</td>\n",
       "      <td>https://example.com/xamarin-portfolio</td>\n",
       "    </tr>\n",
       "    <tr>\n",
       "      <th>15</th>\n",
       "      <td>Backend, Kotlin, Spring Boot</td>\n",
       "      <td>https://example.com/kotlin-backend-portfolio</td>\n",
       "    </tr>\n",
       "    <tr>\n",
       "      <th>16</th>\n",
       "      <td>Frontend, TypeScript, Angular</td>\n",
       "      <td>https://example.com/typescript-frontend-portfolio</td>\n",
       "    </tr>\n",
       "    <tr>\n",
       "      <th>17</th>\n",
       "      <td>Full-stack, JavaScript, Express.js</td>\n",
       "      <td>https://example.com/full-stack-js-portfolio</td>\n",
       "    </tr>\n",
       "    <tr>\n",
       "      <th>18</th>\n",
       "      <td>Machine Learning, Python, TensorFlow</td>\n",
       "      <td>https://example.com/ml-python-portfolio</td>\n",
       "    </tr>\n",
       "    <tr>\n",
       "      <th>19</th>\n",
       "      <td>DevOps, Jenkins, Docker</td>\n",
       "      <td>https://example.com/devops-portfolio</td>\n",
       "    </tr>\n",
       "  </tbody>\n",
       "</table>\n",
       "</div>"
      ],
      "text/plain": [
       "                               Techstack  \\\n",
       "0                React, Node.js, MongoDB   \n",
       "1               Angular,.NET, SQL Server   \n",
       "2      Vue.js, Ruby on Rails, PostgreSQL   \n",
       "3                  Python, Django, MySQL   \n",
       "4              Java, Spring Boot, Oracle   \n",
       "5             Flutter, Firebase, GraphQL   \n",
       "6                  WordPress, PHP, MySQL   \n",
       "7                    Magento, PHP, MySQL   \n",
       "8         React Native, Node.js, MongoDB   \n",
       "9                  iOS, Swift, Core Data   \n",
       "10       Android, Java, Room Persistence   \n",
       "11             Kotlin, Android, Firebase   \n",
       "12       Android TV, Kotlin, Android NDK   \n",
       "13                     iOS, Swift, ARKit   \n",
       "14        Cross-platform, Xamarin, Azure   \n",
       "15          Backend, Kotlin, Spring Boot   \n",
       "16         Frontend, TypeScript, Angular   \n",
       "17    Full-stack, JavaScript, Express.js   \n",
       "18  Machine Learning, Python, TensorFlow   \n",
       "19               DevOps, Jenkins, Docker   \n",
       "\n",
       "                                                Links  \n",
       "0                 https://example.com/react-portfolio  \n",
       "1               https://example.com/angular-portfolio  \n",
       "2                   https://example.com/vue-portfolio  \n",
       "3                https://example.com/python-portfolio  \n",
       "4                  https://example.com/java-portfolio  \n",
       "5               https://example.com/flutter-portfolio  \n",
       "6             https://example.com/wordpress-portfolio  \n",
       "7               https://example.com/magento-portfolio  \n",
       "8          https://example.com/react-native-portfolio  \n",
       "9                   https://example.com/ios-portfolio  \n",
       "10              https://example.com/android-portfolio  \n",
       "11       https://example.com/kotlin-android-portfolio  \n",
       "12           https://example.com/android-tv-portfolio  \n",
       "13               https://example.com/ios-ar-portfolio  \n",
       "14              https://example.com/xamarin-portfolio  \n",
       "15       https://example.com/kotlin-backend-portfolio  \n",
       "16  https://example.com/typescript-frontend-portfolio  \n",
       "17        https://example.com/full-stack-js-portfolio  \n",
       "18            https://example.com/ml-python-portfolio  \n",
       "19               https://example.com/devops-portfolio  "
      ]
     },
     "execution_count": 9,
     "metadata": {},
     "output_type": "execute_result"
    }
   ],
   "source": [
    "import pandas as pd\n",
    "current_dir = os.getcwd()\n",
    "parent_dir = os.path.dirname(current_dir)\n",
    "assets_dir = os.path.join(parent_dir, \"assets\")\n",
    "csv_path = os.path.join(assets_dir, \"portfolio.csv\")\n",
    "df = pd.read_csv(csv_path)\n",
    "df"
   ]
  },
  {
   "cell_type": "code",
   "execution_count": null,
   "id": "3f58847d",
   "metadata": {},
   "outputs": [],
   "source": [
    "import chromadb\n",
    "\n",
    "client = chromadb.PersistentClient(os.path.join(parent_dir,'vector_store'))\n",
    "collection = client.get_or_create_collection(\"portfolio\")\n",
    "\n",
    "if collection.count() == 0:\n",
    "    for index, row in df.iterrows():\n",
    "        collection.add(\n",
    "            documents=row[\"Techstack\"],\n",
    "            metadatas={\"links\": row[\"Links\"]},\n",
    "            ids=[str(index)]\n",
    "        )"
   ]
  },
  {
   "cell_type": "code",
   "execution_count": 11,
   "id": "b23d64b3",
   "metadata": {},
   "outputs": [],
   "source": [
    "links = collection.query(query_texts=[\"Experence in Python\",\"Experence in Javascript\"], n_results=2).get(\"metadatas\")"
   ]
  },
  {
   "cell_type": "code",
   "execution_count": 12,
   "id": "f8396844",
   "metadata": {},
   "outputs": [
    {
     "data": {
      "text/plain": [
       "[[{'links': 'https://example.com/ml-python-portfolio'},\n",
       "  {'links': 'https://example.com/python-portfolio'}],\n",
       " [{'links': 'https://example.com/full-stack-js-portfolio'},\n",
       "  {'links': 'https://example.com/typescript-frontend-portfolio'}]]"
      ]
     },
     "execution_count": 12,
     "metadata": {},
     "output_type": "execute_result"
    }
   ],
   "source": [
    "links"
   ]
  },
  {
   "cell_type": "code",
   "execution_count": 13,
   "id": "d1b46f0b",
   "metadata": {},
   "outputs": [],
   "source": [
    "skills = json_res[\"skills\"]"
   ]
  },
  {
   "cell_type": "code",
   "execution_count": 14,
   "id": "20415583",
   "metadata": {},
   "outputs": [
    {
     "data": {
      "text/plain": [
       "[[{'links': 'https://example.com/ml-python-portfolio'},\n",
       "  {'links': 'https://example.com/magento-portfolio'}],\n",
       " [{'links': 'https://example.com/magento-portfolio'},\n",
       "  {'links': 'https://example.com/ml-python-portfolio'}],\n",
       " [{'links': 'https://example.com/magento-portfolio'},\n",
       "  {'links': 'https://example.com/java-portfolio'}],\n",
       " [{'links': 'https://example.com/ml-python-portfolio'},\n",
       "  {'links': 'https://example.com/ios-ar-portfolio'}],\n",
       " [{'links': 'https://example.com/ml-python-portfolio'},\n",
       "  {'links': 'https://example.com/python-portfolio'}]]"
      ]
     },
     "execution_count": 14,
     "metadata": {},
     "output_type": "execute_result"
    }
   ],
   "source": [
    "links = collection.query(query_texts=skills, n_results=2).get(\"metadatas\")\n",
    "links"
   ]
  },
  {
   "cell_type": "code",
   "execution_count": 15,
   "id": "63fa9c3b",
   "metadata": {},
   "outputs": [],
   "source": [
    "email_prompt = PromptTemplate.from_template(\n",
    "    \"\"\"\n",
    "    ### JOB DESCRIPTION:\n",
    "    {job_description}\n",
    "    ### BACKGROUND:\n",
    "    You are Abhi, a Business Development Executive at DIT Technologies that provides various IT solutions.\n",
    "    Over our experience, we have empowered numerous enterprises with tailored solutions, fostering\n",
    "    scalability, process optimization, cost reduction, and heightened overall efficiency.\n",
    "    ### TASK: \n",
    "    Your job is to write a cold email to the client regarding the job mentioned above describing\n",
    "    the capability of DIT Technologies in fulfilling their needs.\n",
    "    Also add the most relevant ones from the following links to showcase DIT's portfolio:\n",
    "    {link_list}\n",
    "    Do not provide a preamble.\n",
    "    ### EMAIL (NO PREAMBLE):\n",
    "        \n",
    "    \"\"\"\n",
    ")"
   ]
  },
  {
   "cell_type": "code",
   "execution_count": 16,
   "id": "7fa723ad",
   "metadata": {},
   "outputs": [
    {
     "name": "stdout",
     "output_type": "stream",
     "text": [
      "Here is the cold email:\n",
      "\n",
      "Subject: Expert Image Quality Support for Your Operations Team\n",
      "\n",
      "Dear Hiring Manager,\n",
      "\n",
      "I came across your job posting for a Working Student, Image Quality Support, and I believe DIT Technologies can provide the ideal candidate to support your Operations team. Our team of experts has extensive experience in remote sensing, image processing, and GIS systems, making us a great fit for your Image Quality Support (IQS) team.\n",
      "\n",
      "At DIT Technologies, we have a proven track record of delivering tailored solutions that drive scalability, process optimization, cost reduction, and heightened overall efficiency. Our team is well-versed in Python, UNIX operating systems, and photogrammetry, ensuring seamless integration with your existing systems.\n",
      "\n",
      "To give you an idea of our capabilities, I'd like to highlight some of our relevant projects:\n",
      "\n",
      "* Our machine learning and Python expertise can be seen in our portfolio: https://example.com/ml-python-portfolio\n",
      "* We have also successfully implemented Python-based solutions: https://example.com/python-portfolio\n",
      "\n",
      "We understand the importance of image quality evaluation and are confident that our team can provide the necessary support to your IQS team. If you're interested in discussing how we can help, I'd be more than happy to set up a call.\n",
      "\n",
      "Looking forward to hearing from you.\n",
      "\n",
      "Best regards,\n",
      "Abhi\n",
      "Business Development Executive\n",
      "DIT Technologies\n"
     ]
    }
   ],
   "source": [
    "chain_email = email_prompt | llm\n",
    "email = chain_email.invoke(input = {\"job_description\":json_res, \"link_list\":links})\n",
    "print(email.content)"
   ]
  },
  {
   "cell_type": "code",
   "execution_count": null,
   "id": "50400e73",
   "metadata": {},
   "outputs": [],
   "source": []
  }
 ],
 "metadata": {
  "kernelspec": {
   "display_name": ".venv",
   "language": "python",
   "name": "python3"
  },
  "language_info": {
   "codemirror_mode": {
    "name": "ipython",
    "version": 3
   },
   "file_extension": ".py",
   "mimetype": "text/x-python",
   "name": "python",
   "nbconvert_exporter": "python",
   "pygments_lexer": "ipython3",
   "version": "3.12.6"
  }
 },
 "nbformat": 4,
 "nbformat_minor": 5
}
